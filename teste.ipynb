{
 "metadata": {
  "language_info": {
   "codemirror_mode": {
    "name": "ipython",
    "version": 3
   },
   "file_extension": ".py",
   "mimetype": "text/x-python",
   "name": "python",
   "nbconvert_exporter": "python",
   "pygments_lexer": "ipython3",
   "version": "3.8.8"
  },
  "orig_nbformat": 2,
  "kernelspec": {
   "name": "python388jvsc74a57bd074ab7c6ffe6706754a8af46cc4d18eebe476c74ce21a19282f620e1b1e9919fe",
   "display_name": "Python 3.8.8 64-bit (conda)"
  }
 },
 "nbformat": 4,
 "nbformat_minor": 2,
 "cells": [
  {
   "cell_type": "code",
   "execution_count": null,
   "metadata": {},
   "outputs": [],
   "source": [
    "from sklearn import tree\n",
    "\n",
    "irregular = 0\n",
    "lisa = 1\n",
    "\n",
    "Laranja = 0\n",
    "Maça = 1\n",
    "\n",
    "pomar = [[150, lisa],[130, lisa],[180, irregular],[160, irregular]]\n",
    "resultado = [Maça,Maça,Laranja,Laranja]"
   ]
  },
  {
   "cell_type": "code",
   "execution_count": null,
   "metadata": {},
   "outputs": [],
   "source": [
    "clf = tree.DecisionTreeClassifier()\n",
    "clf.fit(pomar, resultado)"
   ]
  },
  {
   "cell_type": "code",
   "execution_count": null,
   "metadata": {},
   "outputs": [],
   "source": [
    "peso = input('Insira o peso: ')\n",
    "superficie = input('Insira o tipo da superfície: ')\n",
    "\n",
    "resultadoExecucao = clf.predict([[peso, superficie]])"
   ]
  },
  {
   "cell_type": "code",
   "execution_count": null,
   "metadata": {},
   "outputs": [],
   "source": [
    "if resultadoExecucao == 1:\n",
    "    print('É uma maçã!')\n",
    "else:\n",
    "    print('É uma laranja!')"
   ]
  }
 ]
}